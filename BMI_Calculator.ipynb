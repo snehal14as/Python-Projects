{
 "cells": [
  {
   "cell_type": "markdown",
   "id": "0fa28e26-da46-4f7b-9b18-1bd2250afe9f",
   "metadata": {},
   "source": [
    "# BMI Calculator"
   ]
  },
  {
   "cell_type": "code",
   "execution_count": null,
   "id": "da733c66-c534-4f2a-b6e2-dd03bf3a80e6",
   "metadata": {},
   "outputs": [],
   "source": [
    "name = input(\"Enter your name: \")\n",
    "weight = int(input(\"Enter your weight in Kg: \"))\n",
    "height = int(input(\"Enter your height in CM: \"))\n",
    "\n",
    "BMI = ((weight) / (height*height) ) * 10000\n",
    "print(name + \", your BMI is: \",BMI)\n",
    "\n",
    "if BMI > 0 :\n",
    "    if BMI < 16 :\n",
    "        print(\"\\n\",name + \"\"\", you are under \"Severe Thinness\" column.\"\"\")\n",
    "    elif BMI <= 17 :\n",
    "        print(\"\\n\",name + \"\"\", you are under \"Moderate Thinness\" column.\"\"\")\n",
    "    elif BMI <= 18.5 :\n",
    "        print(\"\\n\",name + \"\"\", you are under \"Mild Thinness\" column.\"\"\")\n",
    "    elif BMI <= 25 :\n",
    "        print(\"\\n\",name + \"\"\", you are under \"Normal\" column.\"\"\")\n",
    "    elif BMI <= 30 :\n",
    "        print(\"\\n\",name + \"\"\", you are under \"Overwight\" column.\"\"\")\n",
    "    elif BMI <= 35 :\n",
    "        print(\"\\n\",name + \"\"\", you are under \"Obese Class 1\" column.\"\"\")\n",
    "    elif BMI <= 40 :\n",
    "        print(\"\\n\",name + \"\"\", you are under \"Obese Class 2\" column.\"\"\")\n",
    "    else:\n",
    "        print(\"\\n\",name + \"\"\", you are under \"Obese Class 3\" column.\"\"\")"
   ]
  },
  {
   "cell_type": "markdown",
   "id": "4f097db6-eed5-4b6b-a4d2-37734253bf21",
   "metadata": {},
   "source": [
    "## BMI Ranges\n",
    "Severe Thinness: < 16\n",
    "\n",
    "Moderate Thinness: 16 - 17\n",
    "\n",
    "Mild Thinness: 17 - 18.5\n",
    "\n",
    "Normal: 18.5 - 25\n",
    "\n",
    "Overweight: 25 - 30\n",
    "\n",
    "Obese Class I: 30 - 35\n",
    "\n",
    "Obese Class II: 35 - 40\n",
    "\n",
    "Obese Class III: > 40"
   ]
  },
  {
   "cell_type": "code",
   "execution_count": null,
   "id": "6eaa02cb-e40b-4e6f-b306-1f2e7d64f596",
   "metadata": {},
   "outputs": [],
   "source": []
  },
  {
   "cell_type": "code",
   "execution_count": null,
   "id": "7f1616c8-19c6-47d2-be27-b61a8d084145",
   "metadata": {},
   "outputs": [],
   "source": []
  },
  {
   "cell_type": "code",
   "execution_count": null,
   "id": "64be2bf3-59c4-4373-bb85-fdd32cf187f9",
   "metadata": {},
   "outputs": [],
   "source": []
  },
  {
   "cell_type": "code",
   "execution_count": null,
   "id": "a5ed23c3-ff6e-41a2-9a5d-8221a104063c",
   "metadata": {},
   "outputs": [],
   "source": []
  },
  {
   "cell_type": "code",
   "execution_count": null,
   "id": "bf6ef967-de4b-4f79-b0f1-0292f08f3393",
   "metadata": {},
   "outputs": [],
   "source": []
  },
  {
   "cell_type": "code",
   "execution_count": null,
   "id": "302161a9-9954-4d89-bf35-3d62f6e664db",
   "metadata": {},
   "outputs": [],
   "source": []
  }
 ],
 "metadata": {
  "kernelspec": {
   "display_name": "anaconda-panel-2023.05-py310",
   "language": "python",
   "name": "conda-env-anaconda-panel-2023.05-py310-py"
  },
  "language_info": {
   "codemirror_mode": {
    "name": "ipython",
    "version": 3
   },
   "file_extension": ".py",
   "mimetype": "text/x-python",
   "name": "python",
   "nbconvert_exporter": "python",
   "pygments_lexer": "ipython3",
   "version": "3.11.5"
  }
 },
 "nbformat": 4,
 "nbformat_minor": 5
}
